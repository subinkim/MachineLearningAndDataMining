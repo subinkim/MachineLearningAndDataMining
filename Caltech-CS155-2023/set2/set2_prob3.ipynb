{
  "cells": [
    {
      "cell_type": "markdown",
      "source": [
        "<a href=\"https://githubtocolab.com/emiletimothy/Caltech-CS155-2023/blob/main/set2/set2_prob3.ipynb\" target=\"_parent\"><img src=\"https://colab.research.google.com/assets/colab-badge.svg\" alt=\"Open in Colab\"/></a>"
      ],
      "metadata": {
        "id": "5rbdouqSx3W8"
      }
    },
    {
      "cell_type": "markdown",
      "metadata": {
        "id": "H8_W0SDRpO1X"
      },
      "source": [
        "# Problem 3 "
      ]
    },
    {
      "cell_type": "markdown",
      "metadata": {
        "id": "j0vhlzehpO1e"
      },
      "source": [
        "Use this notebook to write your code for problem 3. "
      ]
    },
    {
      "cell_type": "code",
      "execution_count": null,
      "metadata": {
        "id": "gmAIcgJgpO1f"
      },
      "outputs": [],
      "source": [
        "import numpy as np\n",
        "from matplotlib import pyplot as plt\n",
        "from numpy import genfromtxt\n",
        "from sklearn.linear_model import Ridge\n",
        "from sklearn.linear_model import Lasso\n",
        "%matplotlib inline"
      ]
    },
    {
      "cell_type": "markdown",
      "metadata": {
        "id": "LAGhrx-xpO1t"
      },
      "source": [
        "## Load data"
      ]
    },
    {
      "cell_type": "code",
      "execution_count": null,
      "metadata": {
        "id": "Yag3bAfXpO1t"
      },
      "outputs": [],
      "source": [
        "import urllib.request\n",
        "urllib.request.urlretrieve('https://raw.githubusercontent.com/emiletimothy/Caltech-CS155-2023/main/set2/data/problem3data.txt', 'problem3data.txt')\n",
        "\n",
        "train_data = np.loadtxt('problem3data.txt')\n",
        "y_train = train_data[:, 9]\n",
        "X_train = train_data[:, :9]"
      ]
    }
  ],
  "metadata": {
    "kernelspec": {
      "display_name": "Python 3",
      "language": "python",
      "name": "python3"
    },
    "language_info": {
      "codemirror_mode": {
        "name": "ipython",
        "version": 3
      },
      "file_extension": ".py",
      "mimetype": "text/x-python",
      "name": "python",
      "nbconvert_exporter": "python",
      "pygments_lexer": "ipython3",
      "version": "3.8.3"
    },
    "colab": {
      "provenance": []
    }
  },
  "nbformat": 4,
  "nbformat_minor": 0
}
