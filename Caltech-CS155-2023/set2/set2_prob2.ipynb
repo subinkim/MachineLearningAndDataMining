{
  "cells": [
    {
      "cell_type": "markdown",
      "source": [
        "<a href=\"https://githubtocolab.com/emiletimothy/Caltech-CS155-2023/blob/main/set2/set2_prob2.ipynb\" target=\"_parent\"><img src=\"https://colab.research.google.com/assets/colab-badge.svg\" alt=\"Open in Colab\"/></a>"
      ],
      "metadata": {
        "id": "c9-osRddw_4t"
      }
    },
    {
      "cell_type": "markdown",
      "metadata": {
        "id": "IHuSNc2tkQId"
      },
      "source": [
        "# Problem 2"
      ]
    },
    {
      "cell_type": "markdown",
      "metadata": {
        "id": "EufkPoIQkQIf"
      },
      "source": [
        "Use this notebook to write your code for problem 2. You may reuse your SGD code from last week."
      ]
    },
    {
      "cell_type": "code",
      "execution_count": null,
      "metadata": {
        "id": "Rmo7NnAAkQIg"
      },
      "outputs": [],
      "source": [
        "import numpy as np\n",
        "import matplotlib.pyplot as plt\n",
        "%matplotlib inline"
      ]
    },
    {
      "cell_type": "markdown",
      "source": [
        "Loading the text files in."
      ],
      "metadata": {
        "id": "6tbqg-JToiuc"
      }
    },
    {
      "cell_type": "code",
      "source": [
        "import urllib.request\n",
        "urllib.request.urlretrieve('https://raw.githubusercontent.com/emiletimothy/Caltech-CS155-2023/main/set2/data/wine_training1.txt', 'wine_training1.txt')\n",
        "urllib.request.urlretrieve('https://raw.githubusercontent.com/emiletimothy/Caltech-CS155-2023/main/set2/data/wine_training2.txt', 'wine_training2.txt')\n",
        "urllib.request.urlretrieve('https://raw.githubusercontent.com/emiletimothy/Caltech-CS155-2023/main/set2/data/wine_validation.txt', 'wine_validation.txt')"
      ],
      "metadata": {
        "id": "uPXjM5Z3ozge"
      },
      "execution_count": null,
      "outputs": []
    },
    {
      "cell_type": "markdown",
      "metadata": {
        "id": "14TZ6FwAkQIh"
      },
      "source": [
        "The following function may be useful for loading the necessary data."
      ]
    },
    {
      "cell_type": "code",
      "execution_count": null,
      "metadata": {
        "id": "3mq2nHHOkQIi"
      },
      "outputs": [],
      "source": [
        "def load_data(filename):\n",
        "    \"\"\"\n",
        "    Function loads data stored in the file filename and returns it as a numpy ndarray.\n",
        "    \n",
        "    Inputs:\n",
        "        filename: given as a string.\n",
        "        \n",
        "    Outputs:\n",
        "        Data contained in the file, returned as a numpy ndarray\n",
        "    \"\"\"\n",
        "    return np.loadtxt(filename, skiprows=1, delimiter=',')"
      ]
    }
  ],
  "metadata": {
    "kernelspec": {
      "display_name": "Python 3",
      "language": "python",
      "name": "python3"
    },
    "language_info": {
      "codemirror_mode": {
        "name": "ipython",
        "version": 3
      },
      "file_extension": ".py",
      "mimetype": "text/x-python",
      "name": "python",
      "nbconvert_exporter": "python",
      "pygments_lexer": "ipython3",
      "version": "3.8.3"
    },
    "colab": {
      "provenance": []
    }
  },
  "nbformat": 4,
  "nbformat_minor": 0
}